{
 "cells": [
  {
   "cell_type": "markdown",
   "metadata": {},
   "source": [
    "## Analytics for Multiclass MLP V1"
   ]
  },
  {
   "cell_type": "code",
   "execution_count": 56,
   "metadata": {},
   "outputs": [],
   "source": [
    "import sys\n",
    "sys.path.insert(0, '/models')\n",
    "sys.path.insert(0, '/multiclass_MLP_v1_alternate')\n",
    "sys.path.append(\"/multiclass_MLP_v1_alternate\")\n",
    "# sys.path.insert(0, '../multiclass_MLP_v1_alternate') # has the model folder\n",
    "\n",
    "from  multiclass_MLP_v1_0 import create_mnist_train_test"
   ]
  },
  {
   "cell_type": "code",
   "execution_count": 53,
   "metadata": {},
   "outputs": [
    {
     "ename": "OSError",
     "evalue": "No file or directory found at multiclass_MLP_v1_alternate",
     "output_type": "error",
     "traceback": [
      "\u001b[0;31m---------------------------------------------------------------------------\u001b[0m",
      "\u001b[0;31mOSError\u001b[0m                                   Traceback (most recent call last)",
      "Input \u001b[0;32mIn [53]\u001b[0m, in \u001b[0;36m<cell line: 1>\u001b[0;34m()\u001b[0m\n\u001b[0;32m----> 1\u001b[0m model \u001b[38;5;241m=\u001b[39m \u001b[43mget_model\u001b[49m\u001b[43m(\u001b[49m\u001b[43m)\u001b[49m\n",
      "File \u001b[0;32m~/Documents/GitHub/ideal-funicular/model_analytics/../models/multiclass_MLP_v1_0.py:103\u001b[0m, in \u001b[0;36mget_model\u001b[0;34m()\u001b[0m\n\u001b[1;32m    100\u001b[0m \u001b[38;5;28;01mdef\u001b[39;00m \u001b[38;5;21mget_model\u001b[39m():\n\u001b[1;32m    102\u001b[0m   X_train,  X_valid, X_test, y_train, y_valid, y_test \u001b[38;5;241m=\u001b[39m create_mnist_train_test()\n\u001b[0;32m--> 103\u001b[0m   model \u001b[38;5;241m=\u001b[39m keras\u001b[38;5;241m.\u001b[39mmodels\u001b[38;5;241m.\u001b[39mload_model(\u001b[38;5;124m\"\u001b[39m\u001b[38;5;124mmulticlass_MLP_v1_alternate\u001b[39m\u001b[38;5;124m\"\u001b[39m) \u001b[38;5;66;03m# rollback to best model\u001b[39;00m\n\u001b[1;32m    105\u001b[0m   \u001b[38;5;28;01mreturn\u001b[39;00m model\n",
      "File \u001b[0;32m~/opt/anaconda3/lib/python3.9/site-packages/keras/utils/traceback_utils.py:67\u001b[0m, in \u001b[0;36mfilter_traceback.<locals>.error_handler\u001b[0;34m(*args, **kwargs)\u001b[0m\n\u001b[1;32m     65\u001b[0m \u001b[38;5;28;01mexcept\u001b[39;00m \u001b[38;5;167;01mException\u001b[39;00m \u001b[38;5;28;01mas\u001b[39;00m e:  \u001b[38;5;66;03m# pylint: disable=broad-except\u001b[39;00m\n\u001b[1;32m     66\u001b[0m   filtered_tb \u001b[38;5;241m=\u001b[39m _process_traceback_frames(e\u001b[38;5;241m.\u001b[39m__traceback__)\n\u001b[0;32m---> 67\u001b[0m   \u001b[38;5;28;01mraise\u001b[39;00m e\u001b[38;5;241m.\u001b[39mwith_traceback(filtered_tb) \u001b[38;5;28;01mfrom\u001b[39;00m \u001b[38;5;28mNone\u001b[39m\n\u001b[1;32m     68\u001b[0m \u001b[38;5;28;01mfinally\u001b[39;00m:\n\u001b[1;32m     69\u001b[0m   \u001b[38;5;28;01mdel\u001b[39;00m filtered_tb\n",
      "File \u001b[0;32m~/opt/anaconda3/lib/python3.9/site-packages/keras/saving/save.py:206\u001b[0m, in \u001b[0;36mload_model\u001b[0;34m(filepath, custom_objects, compile, options)\u001b[0m\n\u001b[1;32m    204\u001b[0m \u001b[38;5;28;01mif\u001b[39;00m \u001b[38;5;28misinstance\u001b[39m(filepath_str, \u001b[38;5;28mstr\u001b[39m):\n\u001b[1;32m    205\u001b[0m   \u001b[38;5;28;01mif\u001b[39;00m \u001b[38;5;129;01mnot\u001b[39;00m tf\u001b[38;5;241m.\u001b[39mio\u001b[38;5;241m.\u001b[39mgfile\u001b[38;5;241m.\u001b[39mexists(filepath_str):\n\u001b[0;32m--> 206\u001b[0m     \u001b[38;5;28;01mraise\u001b[39;00m \u001b[38;5;167;01mIOError\u001b[39;00m(\u001b[38;5;124mf\u001b[39m\u001b[38;5;124m'\u001b[39m\u001b[38;5;124mNo file or directory found at \u001b[39m\u001b[38;5;132;01m{\u001b[39;00mfilepath_str\u001b[38;5;132;01m}\u001b[39;00m\u001b[38;5;124m'\u001b[39m)\n\u001b[1;32m    208\u001b[0m   \u001b[38;5;28;01mif\u001b[39;00m tf\u001b[38;5;241m.\u001b[39mio\u001b[38;5;241m.\u001b[39mgfile\u001b[38;5;241m.\u001b[39misdir(filepath_str):\n\u001b[1;32m    209\u001b[0m     \u001b[38;5;28;01mreturn\u001b[39;00m saved_model_load\u001b[38;5;241m.\u001b[39mload(filepath_str, \u001b[38;5;28mcompile\u001b[39m, options)\n",
      "\u001b[0;31mOSError\u001b[0m: No file or directory found at multiclass_MLP_v1_alternate"
     ]
    }
   ],
   "source": [
    "model = get_model()"
   ]
  },
  {
   "cell_type": "code",
   "execution_count": 51,
   "metadata": {},
   "outputs": [
    {
     "name": "stdout",
     "output_type": "stream",
     "text": [
      "['/multiclass_MLP_v1_alternate', '/models', '/models', '../multiclass_MLP_v1_alternate', '../models', '../multiclass_MLP_v1_alternate', '../models', '../multiclass_MLP_v1_alternate', '../models', '../multiclass_MLP_v1_alternate', '../models', '../multiclass_MLP_v1_alternate', '../multiclass_MLP_v1_alternate', '../models', '../models', '../models', '../models', '../models', '../models', '../models', '../models', '../multiclass_MLP_v1_alternate', '../models', '../multiclass_MLP_v1_alternate', '../models', '../multiclass_MLP_v1_alternate', '../models', '../models', '../models', '/Users/davidperez/Documents/GitHub/ideal-funicular/model_analytics', '/Users/davidperez/.vscode/extensions/ms-toolsai.jupyter-2021.6.832593372/pythonFiles', '/Users/davidperez/.vscode/extensions/ms-toolsai.jupyter-2021.6.832593372/pythonFiles', '/Users/davidperez/.vscode/extensions/ms-toolsai.jupyter-2021.6.832593372/pythonFiles/lib/python', '/Users/davidperez/opt/anaconda3/lib/python39.zip', '/Users/davidperez/opt/anaconda3/lib/python3.9', '/Users/davidperez/opt/anaconda3/lib/python3.9/lib-dynload', '', '/Users/davidperez/opt/anaconda3/lib/python3.9/site-packages', '/Users/davidperez/opt/anaconda3/lib/python3.9/site-packages/aeosa', '../', '../', '../multiclass_MLP_v1_alternate', 'multiclass_MLP_v1_alternate', '../multiclass_MLP_v1_alternate', '../multiclass_MLP_v1_alternate', '../multiclass_MLP_v1_alternate', '../multiclass_MLP_v1_alternate', '../multiclass_MLP_v1_alternate', '../multiclass_MLP_v1_alternate', '../multiclass_MLP_v1_alternate', '../multiclass_MLP_v1_alternate', '../multiclass_MLP_v1_alternate', '/multiclass_MLP_v1_alternate']\n"
     ]
    }
   ],
   "source": [
    "print(sys.path)"
   ]
  },
  {
   "cell_type": "code",
   "execution_count": 59,
   "metadata": {},
   "outputs": [
    {
     "name": "stdout",
     "output_type": "stream",
     "text": [
      "313/313 [==============================] - 0s 1ms/step - loss: 0.0804 - accuracy: 0.9853\n",
      "[0.08041948825120926, 0.9853000044822693]\n"
     ]
    }
   ],
   "source": [
    "import keras\n",
    "X_train,  X_valid, X_test, y_train, y_valid, y_test = create_mnist_train_test()\n",
    "model = keras.models.load_model(\"../multiclass_MLP_v1_alternate\") # rollback to best model\n",
    "  \n",
    "  \n",
    "print(model.evaluate(X_test, y_test))\n"
   ]
  },
  {
   "cell_type": "code",
   "execution_count": 63,
   "metadata": {},
   "outputs": [
    {
     "data": {
      "image/png": "[encoded data removed]",
      "text/plain": "<Figure size 432x288 with 1 Axes>"
     },
     "metadata": {
      "needs_background": "light"
     },
     "output_type": "display_data"
    }
   ],
   "source": [
    "# To plot pretty figures\n",
    "%matplotlib inline\n",
    "import matplotlib as mpl\n",
    "import matplotlib.pyplot as plt\n",
    "\n",
    "plt.imshow(X_train[0], cmap=\"binary\")\n",
    "plt.axis('off')\n",
    "plt.show()"
   ]
  },
  {
   "cell_type": "code",
   "execution_count": 77,
   "metadata": {},
   "outputs": [
    {
     "name": "stdout",
     "output_type": "stream",
     "text": [
      "1/1 [==============================] - 0s 27ms/step\n",
      "7\n"
     ]
    }
   ],
   "source": [
    "import numpy as np\n",
    "\n",
    "print(np.argmax(model.predict(X_train[0])))\n"
   ]
  },
  {
   "cell_type": "code",
   "execution_count": 70,
   "metadata": {},
   "outputs": [
    {
     "data": {
      "text/plain": "(55000, 28, 28)"
     },
     "execution_count": 70,
     "metadata": {},
     "output_type": "execute_result"
    }
   ],
   "source": [
    "X_train.shape"
   ]
  },
  {
   "cell_type": "code",
   "execution_count": 78,
   "metadata": {},
   "outputs": [
    {
     "data": {
      "image/png": "[encoded data removed]",
      "text/plain": "<Figure size 432x288 with 1 Axes>"
     },
     "metadata": {
      "needs_background": "light"
     },
     "output_type": "display_data"
    }
   ],
   "source": [
    "plt.imshow(X_train[1], cmap=\"binary\")\n",
    "plt.axis('off')\n",
    "plt.show()"
   ]
  },
  {
   "cell_type": "code",
   "execution_count": 80,
   "metadata": {},
   "outputs": [
    {
     "name": "stdout",
     "output_type": "stream",
     "text": [
      "1/1 [==============================] - 0s 24ms/step\n",
      "3\n"
     ]
    }
   ],
   "source": [
    "print(np.argmax(model.predict(X_train[1])))"
   ]
  }
 ],
 "metadata": {
  "kernelspec": {
   "display_name": "Python 3.9.12 64-bit ('base': conda)",
   "name": "python3912jvsc74a57bd0db3fbccac844b5461ee1302e3acb5cedc59a4b1a9109b8d8709a0563010df1f8"
  },
  "language_info": {
   "codemirror_mode": {
    "name": "ipython",
    "version": 3
   },
   "file_extension": ".py",
   "mimetype": "text/x-python",
   "name": "python",
   "nbconvert_exporter": "python",
   "pygments_lexer": "ipython3",
   "version": "3.9.12"
  },
  "metadata": {
   "interpreter": {
    "hash": "b93216d10e361a6e0da217dfada7a49c9e800f38f8fd88100a6a3e64dc17d0ab"
   }
  },
  "orig_nbformat": 2
 },
 "nbformat": 4,
 "nbformat_minor": 2
}