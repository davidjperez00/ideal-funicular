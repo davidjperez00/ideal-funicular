{
 "cells": [
  {
   "cell_type": "markdown",
   "metadata": {},
   "source": [
    "# Identifying `+` Operator on sample image\n",
    "### imports"
   ]
  },
  {
   "cell_type": "code",
   "execution_count": null,
   "metadata": {},
   "outputs": [],
   "source": [
    "import cv2\n",
    "import numpy as np\n",
    "from keras.datasets import mnist\n",
    "from keras.layers import Dense, Flatten\n",
    "from keras.layers.convolutional import Conv2D\n",
    "from keras.models import Sequential\n",
    "from keras.utils import to_categorical\n",
    "import matplotlib.pyplot as plt\n"
   ]
  },
  {
   "cell_type": "code",
   "execution_count": null,
   "metadata": {},
   "outputs": [],
   "source": [
    "image = cv2.imread('./add_secondSetFlash.jpg')\n",
    "grey = cv2.cvtColor(image.copy(), cv2.COLOR_BGR2GRAY)\n",
    "ret, thresh = cv2.threshold(grey.copy(), 75, 255, cv2.THRESH_BINARY_INV + cv2.THRESH_OTSU)\n",
    "contours, _ = cv2.findContours(thresh.copy(), cv2.RETR_EXTERNAL, cv2.CHAIN_APPROX_SIMPLE)\n",
    "preprocessed_digits = []\n",
    "bounded_digits = []\n",
    "for c in contours:\n",
    "    x,y,w,h = cv2.boundingRect(c)\n",
    "    \n",
    "    # Creating a rectangle around the digit in the original image (for displaying the digits fetched via contours)\n",
    "    cv2.rectangle(image, (x,y), (x+w, y+h), color=(0, 255, 0), thickness=2)\n",
    "    \n",
    "    # Cropping out the digit from the image corresponding to the current contours in the for loop\n",
    "    digit = thresh[y:y+h, x:x+w]\n",
    "    \n",
    "    # @todo create a ratio to better square a general image\n",
    "    # CHANGE NARROW OBJECTS TO SOON BE (18,18) PIXEL DIGIT\n",
    "    # HAND SCENARIO WHEN IMAGE IS NARROW; y pixel length is less than 10 pixels\n",
    "    x, y = digit.shape\n",
    "\n",
    "\n",
    "    padded_digit = digit.copy()\n",
    "\n",
    "    if (y < 10):\n",
    "        # Padd x-axis\n",
    "        difference = round((28 - y)/2)\n",
    "        padded_digit = np.pad(padded_digit, ((0,0),(difference,difference)),\"constant\", constant_values=0)\n",
    "\n",
    "    # Resize digit\n",
    "    resized_digit = cv2.resize(padded_digit, (18,18))\n",
    "    \n",
    "    # Padding the digit with 5 pixels of black color (zeros) in each side to finally produce the image of (28, 28)\n",
    "    padded_digit = np.pad(resized_digit, ((5,5),(5,5)), \"constant\", constant_values=0)\n",
    "    \n",
    "    # Adding the preprocessed digit to the list of preprocessed digits\n",
    "    preprocessed_digits.append(padded_digit)\n",
    "    # bounded_digits.append(digit)\n",
    "\n",
    "print(\"\\n----------------Original Image--------------------\")\n",
    "plt.imshow(image)\n",
    "plt.show()\n",
    "\n",
    "inp = np.array(preprocessed_digits)\n",
    "\n",
    "bounded_digit_index = 0\n",
    "\n",
    "columns = 4\n",
    "rows = math.ceil( len(preprocessed_digits) / columns)\n",
    "fig = plt.figure(figsize=(28, 28))\n",
    "\n",
    "for i in range(1, rows*columns - 1):\n",
    "    # Make prediction on each image before plotting\n",
    "    # prediction = model.predict(preprocessed_digits[i-1].reshape(1, 28, 28, 1))\n",
    "\n",
    "    p = fig.add_subplot(rows, columns, i)\n",
    "    # plt.xlabel('PREDICTION: {0}'.format(np.argmax(prediction)), fontsize=30)    \n",
    "    plt.imshow(preprocessed_digits[i - 1], cmap='gray')\n",
    "\n",
    "    "
   ]
  },
  {
   "cell_type": "code",
   "execution_count": null,
   "metadata": {},
   "outputs": [],
   "source": []
  }
 ],
 "metadata": {
  "kernelspec": {
   "display_name": "Python 3.9.12 64-bit ('base': conda)",
   "name": "python3912jvsc74a57bd0db3fbccac844b5461ee1302e3acb5cedc59a4b1a9109b8d8709a0563010df1f8"
  },
  "language_info": {
   "name": "python",
   "version": ""
  },
  "orig_nbformat": 2
 },
 "nbformat": 4,
 "nbformat_minor": 2
}