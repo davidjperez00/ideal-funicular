{
 "cells": [
  {
   "cell_type": "markdown",
   "metadata": {},
   "source": [
    "# Pipeline for Adding `+` Operator to Model Dataset"
   ]
  },
  {
   "cell_type": "markdown",
   "metadata": {},
   "source": [
    "## Preproccessing Pipeline and Display"
   ]
  },
  {
   "cell_type": "code",
   "execution_count": 2,
   "metadata": {},
   "outputs": [],
   "source": [
    "import cv2\n",
    "import os\n",
    "import numpy as np\n",
    "import matplotlib.pyplot as plt\n",
    "import math\n",
    "\n",
    "\n",
    "# Consider adding noise removal: https://stackoverflow.com/questions/62042172/how-to-remove-noise-in-image-opencv-python \n",
    "# @TODO Create pipeline for only contouring a single image at a time and multiple\n",
    "#\n",
    "# @brief Searches for contours inside image, the last contuor detected is returned.\n",
    "# @returns The pipeline returns the original digit with bounding box placed around it and also the contoured image.\n",
    "def preprocess_pipeline(img):\n",
    "\n",
    "  # Create Grayscale Copy and apply contours\n",
    "  grey = cv2.cvtColor(img.copy(), cv2.COLOR_BGR2GRAY)\n",
    "  ret, thresh = cv2.threshold(grey.copy(), 75, 255, cv2.THRESH_BINARY_INV + cv2.THRESH_OTSU)\n",
    "  contours, _ = cv2.findContours(thresh.copy(), cv2.RETR_EXTERNAL, cv2.CHAIN_APPROX_SIMPLE)\n",
    "\n",
    "  bounded_img = None\n",
    "  processed_digit = None\n",
    "\n",
    "  for c in contours:\n",
    "    x,y,w,h = cv2.boundingRect(c)\n",
    "    \n",
    "    # Creating a rectangle around the digit in the original image (for displaying the digits fetched via contours)\n",
    "    cv2.rectangle(img, (x,y), (x+w, y+h), color=(0, 255, 0), thickness=2)\n",
    "\n",
    "    # Save copy of bounded image\n",
    "    bounded_img = img\n",
    "    \n",
    "    # Cropping out the digit from the image corresponding to the current contours in the for loop\n",
    "    digit = thresh[y:y+h, x:x+w]\n",
    "    \n",
    "    # @todo create a ratio to better square a general image\n",
    "    # CHANGE NARROW OBJECTS TO SOON BE (18,18) PIXEL DIGIT\n",
    "    # HAND SCENARIO WHEN IMAGE IS NARROW; y pixel length is less than 10 pixels\n",
    "    x, y = digit.shape\n",
    "\n",
    "    padded_digit = digit.copy() # WHY THIS HERE\n",
    "\n",
    "    if (y < 10):\n",
    "        # Padd x-axis\n",
    "        difference = round((28 - y)/2)\n",
    "        padded_digit = np.pad(padded_digit, ((0,0),(difference,difference)),\"constant\", constant_values=0)\n",
    "\n",
    "    # Resize digit\n",
    "    resized_digit = cv2.resize(padded_digit, (18,18))\n",
    "    \n",
    "    # Padding the digit with 5 pixels of black color (zeros) in each side to finally produce the image of (28, 28)\n",
    "    padded_digit = np.pad(resized_digit, ((5,5),(5,5)), \"constant\", constant_values=0)\n",
    "    \n",
    "    # Update image argument with processed form\n",
    "    processed_digit = padded_digit\n",
    "\n",
    "  return bounded_img, processed_digit\n",
    "\n",
    "\n",
    "# @TODO Consider new printing format since errors occur for certain\n",
    "#         lengths and images display too large.\n",
    "def display_list_of_images(images_list):\n",
    "  columns = 4\n",
    "\n",
    "  # if less than 10 images doesn't seem to print correctly\n",
    "  rows = math.ceil( len(images_list) / columns)\n",
    "\n",
    "  fig = plt.figure(figsize=(13,13))\n",
    "\n",
    "  for i in range(1, rows*columns - 1):\n",
    "    # Make prediction on each image before plotting\n",
    "    # prediction = model.predict(preprocessed_digits[i-1].reshape(1, 28, 28, 1))\n",
    "    p = fig.add_subplot(rows, columns, i)\n",
    "    # plt.xlabel('PREDICTION: {0}'.format(np.argmax(prediction)), fontsize=30)    \n",
    "    plt.imshow(images_list[i - 1], cmap='gray')\n",
    "\n",
    "  plt.show()\n",
    "\n",
    "\n",
    "\n",
    "# Save list of images to a specific folder\n",
    "# DOUBLE CHECK THIS METHOD BEFORE RUNNING AGAIN\n",
    "# maybe do read, rotate save images\n",
    "def read_rotate_save_images(images_folder, save_path, rotation, num_digits_return = 0):\n",
    "  image_file_names = os.listdir(images_folder)\n",
    "\n",
    "  # Create string of rotation to add to file name\n",
    "  rotatation_str = \"\"\n",
    "  if (rotation == 0):\n",
    "    rotatation_str = \"_c90\"\n",
    "  elif (rotation == 1):\n",
    "      rotatation_str = \"_c180\"\n",
    "  elif (rotation == 2):\n",
    "      rotatation_str = \"_c270\"\n",
    "\n",
    "  # Store 'num_digits_return' to return\n",
    "  rotated_digits = []\n",
    "\n",
    "  for i in range(0,len(image_file_names) - 1):\n",
    "    image = cv2.imread(images_folder+ image_file_names[i])\n",
    "\n",
    "    # 'rotation' expected is a cv2 rotation which is an int 0-2\n",
    "    # 0 is clockwise 90 degrees, 1 is 180, 2 is 90 counter clockwise\n",
    "    rotated_img = cv2.rotate(image, rotation)\n",
    "\n",
    "    if ( i < num_digits_return):\n",
    "      rotated_digits.append(rotated_img)\n",
    "\n",
    "    # Save image as its name plus how its rotated:\n",
    "    # Remove file type from img name\n",
    "    image_name = os.path.splitext(image_file_names[i])\n",
    "\n",
    "    cv2.imwrite(save_path + image_name[0] + rotatation_str +\".png\", rotated_img)\n",
    "\n",
    "  if (num_digits_return !=0 ):\n",
    "    return rotated_digits\n"
   ]
  },
  {
   "cell_type": "markdown",
   "metadata": {},
   "source": [
    "## Processing Kaggle Dataset 567 Images of Hand Written `+` Wymbols\n",
    "- [Datatset Link](https://www.kaggle.com/datasets/sagyamthapa/handwritten-math-symbols),\n",
    "\"dataset/add\" is directory being added to model dataset."
   ]
  },
  {
   "cell_type": "code",
   "execution_count": 2,
   "metadata": {},
   "outputs": [
    {
     "name": "stdout",
     "output_type": "stream",
     "text": [
      "567\n",
      "DISPLAYING FIRST 2 DIGITS\n"
     ]
    },
    {
     "data": {
      "image/png": "[encoded data removed]",
      "text/plain": "<Figure size 936x936 with 2 Axes>"
     },
     "metadata": {
      "needs_background": "light"
     },
     "output_type": "display_data"
    }
   ],
   "source": [
    "# GLOBALS #\n",
    "ORIGINAL_IMGS_PATH = \"./kaggle_dataset/add/\"\n",
    "IMGS_SAVE_PATH = \"./kaggle_dataset/add_preproc/\"\n",
    "NUM_DIGITS_DISPLAY = 2\n",
    "\n",
    "\n",
    "# @TODO Make the listings be in ascending order\n",
    "\n",
    "# Get list of all file names of images in kaggle_dataset/add\n",
    "image_names = os.listdir(ORIGINAL_IMGS_PATH)\n",
    "print(len(image_names))\n",
    "\n",
    "# Perform preprocessing on images from ORIGINAL_IMG_PATH\n",
    "preproc_digits = []\n",
    "for i in range(0,len(image_names)):\n",
    "  image = cv2.imread(ORIGINAL_IMGS_PATH + image_names[i])\n",
    "\n",
    "  # Create a image bounded from contour, then preprocess into (28, 28) image\n",
    "  bounded_img, preproc_img = preprocess_pipeline(image)\n",
    "\n",
    "  if (i < NUM_DIGITS_DISPLAY):\n",
    "    preproc_digits.append(bounded_img)\n",
    "    preproc_digits.append(preproc_img)\n",
    "\n",
    "  # Save preproc image to new folder\n",
    "  # save_img_to_add_preproc_dir(image_names[i],  preproc_img)\n",
    "  cv2.imwrite(IMGS_SAVE_PATH + image_names[i], preproc_img)\n",
    "\n",
    "\n",
    "# DISPLAYING IMAGES TO SEE OPERATION maybe display first 2?\n",
    "print(f\"DISPLAYING FIRST {NUM_DIGITS_DISPLAY} DIGITS\")\n",
    "display_list_of_images(preproc_digits)"
   ]
  },
  {
   "cell_type": "markdown",
   "metadata": {},
   "source": [
    "### Create Duplicated Rotations of Preprocessed Images and Create Folder to Save Them"
   ]
  },
  {
   "cell_type": "code",
   "execution_count": 8,
   "metadata": {},
   "outputs": [
    {
     "name": "stdout",
     "output_type": "stream",
     "text": [
      "DISPLAYING FIRST ROTATE_90_CLOCKWISE DIGITS\n"
     ]
    },
    {
     "data": {
      "image/png": "[encoded data removed]",
      "text/plain": "<Figure size 936x936 with 2 Axes>"
     },
     "metadata": {
      "needs_background": "light"
     },
     "output_type": "display_data"
    },
    {
     "name": "stdout",
     "output_type": "stream",
     "text": [
      "DISPLAYING FIRST ROTATE_180 DIGITS\n"
     ]
    },
    {
     "data": {
      "image/png": "[encoded data removed]",
      "text/plain": "<Figure size 936x936 with 2 Axes>"
     },
     "metadata": {
      "needs_background": "light"
     },
     "output_type": "display_data"
    },
    {
     "name": "stdout",
     "output_type": "stream",
     "text": [
      "DISPLAYING FIRST ROTATE_90_COUNTERCLOCKWISE DIGITS\n"
     ]
    },
    {
     "data": {
      "image/png": "[encoded data removed]",
      "text/plain": "<Figure size 936x936 with 2 Axes>"
     },
     "metadata": {
      "needs_background": "light"
     },
     "output_type": "display_data"
    }
   ],
   "source": [
    "import os\n",
    "import cv2\n",
    "import math\n",
    "import os\n",
    "import numpy as np\n",
    "import matplotlib.pyplot as plt\n",
    "\n",
    "# ASLJDKFKSJDFKLJASDLKFSAD;LFKJASLKJDFSJDF\n",
    "\n",
    "# A@@@@@@@@@@@@ ADD GIT IGNORE TO DATASETS\n",
    "\n",
    "\n",
    "####SKDJFLKDJ AFKLSJD FKLAJ SDLKJFK;ASDF\n",
    "\n",
    "## GLOBALS\n",
    "## Create globals for save paths\n",
    "# INSURE NEW DIRECTORY IS WHATS USED FOR SAVE PATH\n",
    "ROTATED_IMAGES_SAVE_PATH = \"./full_+_preprocessed/\"\n",
    "PREPROCESSED_IMAGES_PATH = \"./kaggle_dataset/add_preproc/\"\n",
    "NUM_DIGITS_DISPLAY = 2\n",
    "\n",
    "# Create folder to store rotated images:\n",
    "try: \n",
    "  os.mkdir(ROTATED_IMAGES_SAVE_PATH)\n",
    "except:\n",
    "  pass\n",
    "\n",
    "# Create duplicate rotations of a folder and save rotated images\n",
    "rotation_list = [cv2.ROTATE_90_CLOCKWISE, cv2.ROTATE_180, cv2.ROTATE_90_COUNTERCLOCKWISE]\n",
    "rotation_names = [\"ROTATE_90_CLOCKWISE\", \"ROTATE_180\", \"ROTATE_90_COUNTERCLOCKWISE\"]\n",
    "\n",
    "for rotation in rotation_list:\n",
    "  # read_rotate_save_images(images_folder, save_path, rotation, num_digits_return = 0):\n",
    "  saved_images = read_rotate_save_images(PREPROCESSED_IMAGES_PATH,\n",
    "    ROTATED_IMAGES_SAVE_PATH, rotation, NUM_DIGITS_DISPLAY)\n",
    "\n",
    "  # Display 20 saved images\n",
    "  print(f\"DISPLAYING FIRST {rotation_names[rotation]} DIGITS\")\n",
    "  display_list_of_images(saved_images)\n",
    "\n",
    "\n",
    "# Copy the original preprocessed digits into the newly created folder:\n",
    "image_names = os.listdir(PREPROCESSED_IMAGES_PATH)\n",
    "\n",
    "for i in range(0,len(image_names)):\n",
    "  image = cv2.imread(PREPROCESSED_IMAGES_PATH + image_names[i])\n",
    "\n",
    "  cv2.imwrite(ROTATED_IMAGES_SAVE_PATH + image_names[i], image)"
   ]
  },
  {
   "cell_type": "markdown",
   "metadata": {},
   "source": [
    "## Second Processing Kaggle Dataset,5XX Images of Hand Written `+` Wymbols\n",
    "- [Datatset Link](https://www.kaggle.com/datasets/michelheusser/handwritten-digits-and-operators),\n",
    "\"All Data/+\" is directory being added to model dataset."
   ]
  },
  {
   "cell_type": "code",
   "execution_count": 3,
   "metadata": {},
   "outputs": [
    {
     "name": "stdout",
     "output_type": "stream",
     "text": [
      "DISPLAYING FIRST 2 DIGITS\n"
     ]
    },
    {
     "data": {
      "image/png": "[encoded data removed]",
      "text/plain": "<Figure size 936x936 with 2 Axes>"
     },
     "metadata": {
      "needs_background": "light"
     },
     "output_type": "display_data"
    }
   ],
   "source": [
    "import re\n",
    "import math\n",
    "import cv2\n",
    "import os\n",
    "import numpy as np\n",
    "import matplotlib.pyplot as plt\n",
    "import math\n",
    "\n",
    "\n",
    "# GLOBALS #\n",
    "ORIGINAL_IMGS_PATH = \"./kaggle_dataset2/+/\"\n",
    "IMGS_SAVE_PATH = \"./full_+_preprocessed/\"\n",
    "NUM_DIGITS_DISPLAY = 2\n",
    "\n",
    "# Try to create a folder to store preprocessed images:\n",
    "try: \n",
    "  os.mkdir(IMGS_SAVE_PATH)\n",
    "except:\n",
    "  pass\n",
    "\n",
    "\n",
    "\n",
    "# def save_img_to_add_preproc_dir(img_name, img):\n",
    "#   add_preproc_path = \"./kaggle_dataset2/digit_original/\"\n",
    "\n",
    "#   cv2.imwrite(add_preproc_path + img_name, img)\n",
    "\n",
    "########\n",
    "\n",
    "# Perform preprocessing on images from ORIGINAL_IMG_PATH\n",
    "# preproc_digits = []\n",
    "# for i in range(0,len(image_names)):\n",
    "#   image = cv2.imread(ORIGINAL_IMGS_PATH + image_names[i])\n",
    "\n",
    "#   # Create a image bounded from contour, then preprocess into (28, 28) image\n",
    "#   bounded_img, preproc_img = preprocess_pipeline(image)\n",
    "\n",
    "#   if (i < NUM_DIGITS_DISPLAY):\n",
    "#     preproc_digits.append(bounded_img)\n",
    "#     preproc_digits.append(preproc_img)\n",
    "\n",
    "#   # Save preproc image to new folder\n",
    "#   # save_img_to_add_preproc_dir(image_names[i],  preproc_img)\n",
    "#   cv2.imwrite(IMGS_SAVE_PATH + image_names[i], preproc_img)\n",
    "\n",
    "\n",
    "# # DISPLAYING IMAGES TO SEE OPERATION maybe display first 2?\n",
    "# print(f\"DISPLAYING FIRST {NUM_DIGITS_DISPLAY} DIGITS\")\n",
    "# display_list_of_images(preproc_digits)\n",
    "\n",
    "##########\n",
    "\n",
    "image_names = os.listdir(ORIGINAL_IMGS_PATH)\n",
    "\n",
    "# Only the unprocessed images are going to be used from\n",
    "# this dataset, these images are determined using this regex\n",
    "regex_pattern = \"[+][_][\\d][_][\\d]+.png\"\n",
    "original_digits_names = []\n",
    "\n",
    "for file in image_names:\n",
    "  match = re.search(regex_pattern, file)\n",
    "\n",
    "  if match:\n",
    "    original_digits_names.append(file)\n",
    "\n",
    "\n",
    "preproc_digits = []\n",
    "for i in range(0,len(original_digits_names)):\n",
    "  image = cv2.imread(ORIGINAL_IMGS_PATH + original_digits_names[i])\n",
    "\n",
    "  # Creates copy of image then preprocesses copy\n",
    "  bounded_img, preproc_img = preprocess_pipeline(image)\n",
    "\n",
    "  if (i < NUM_DIGITS_DISPLAY):\n",
    "    preproc_digits.append(bounded_img)\n",
    "    preproc_digits.append(preproc_img)\n",
    "\n",
    "  # Save preproc image to new folder\n",
    "  # save_img_to_add_preproc_dir(original_digits_names[i],  preproc_img)\n",
    "  #   cv2.imwrite(add_preproc_path + img_name, img)\n",
    "  cv2.imwrite(IMGS_SAVE_PATH + original_digits_names[i], preproc_img)\n",
    "\n",
    "\n",
    "\n",
    "# DISPLAYING IMAGES TO SEE OPERATION maybe display first 8?\n",
    "print(f\"DISPLAYING FIRST {NUM_DIGITS_DISPLAY} DIGITS\")\n",
    "display_list_of_images(preproc_digits)"
   ]
  },
  {
   "cell_type": "markdown",
   "metadata": {},
   "source": [
    "## Testing on Real World Images"
   ]
  },
  {
   "cell_type": "code",
   "execution_count": null,
   "metadata": {},
   "outputs": [],
   "source": []
  }
 ],
 "metadata": {
  "kernelspec": {
   "display_name": "Python 3.9.15 64-bit",
   "name": "python3915jvsc74a57bd04cd7ab41f5fca4b9b44701077e38c5ffd31fe66a6cab21e0214b68d958d0e462"
  },
  "language_info": {
   "codemirror_mode": {
    "name": "ipython",
    "version": 3
   },
   "file_extension": ".py",
   "mimetype": "text/x-python",
   "name": "python",
   "nbconvert_exporter": "python",
   "pygments_lexer": "ipython3",
   "version": "3.9.15"
  },
  "metadata": {
   "interpreter": {
    "hash": "4cd7ab41f5fca4b9b44701077e38c5ffd31fe66a6cab21e0214b68d958d0e462"
   }
  },
  "orig_nbformat": 2
 },
 "nbformat": 4,
 "nbformat_minor": 2
}